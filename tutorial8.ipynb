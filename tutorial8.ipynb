{
 "cells": [
  {
   "cell_type": "code",
   "execution_count": 1,
   "metadata": {},
   "outputs": [
    {
     "name": "stdout",
     "output_type": "stream",
     "text": [
      "[ 1.63105215 -0.51085574 -1.19484464 -0.59036092 -0.63997274 -0.52272334\n",
      "  0.43475471  0.97383497 -0.66986159  0.13907102]\n"
     ]
    }
   ],
   "source": [
    "#rellenar tensor con valores aleatorios\n",
    "import tensorflow as tf\n",
    "valores_aleatorios = tf.random_normal([10], dtype=tf.float64)\n",
    "with tf.Session() as sess:\n",
    "    print(sess.run(valores_aleatorios))"
   ]
  },
  {
   "cell_type": "code",
   "execution_count": 5,
   "metadata": {},
   "outputs": [
    {
     "name": "stdout",
     "output_type": "stream",
     "text": [
      "[[ 1.  2.]\n",
      " [ 3.  4.]]\n"
     ]
    }
   ],
   "source": [
    "# como usar reshape para cambiar la forma de un tensor\n",
    "import tensorflow as tf\n",
    "vector = tf.constant([1., 2., 3., 4.])\n",
    "matriz = tf.reshape(vector, [2,2])\n",
    "with tf.Session() as sess:\n",
    "    print(sess.run(matriz))"
   ]
  },
  {
   "cell_type": "code",
   "execution_count": 8,
   "metadata": {},
   "outputs": [
    {
     "name": "stdout",
     "output_type": "stream",
     "text": [
      "[[ 5.  6.]\n",
      " [ 8.  9.]]\n"
     ]
    }
   ],
   "source": [
    "# como extraer subtensores de un tensor\n",
    "#elimina la primera dimension y el primer elemento de las otras dimensiones\n",
    "# y lo transoforma en una matriz dos por dos\n",
    "import tensorflow as tf\n",
    "matriz2 = tf.constant([[1., 2., 3.],[4.,5.,6.],[7.,8.,9.]])\n",
    "slice_matriz = tf.slice(matriz2, [1,1],[2,2])\n",
    "with tf.Session() as sess:\n",
    "    print(sess.run(slice_matriz))"
   ]
  },
  {
   "cell_type": "code",
   "execution_count": 10,
   "metadata": {},
   "outputs": [
    {
     "name": "stdout",
     "output_type": "stream",
     "text": [
      "[[ 1.  2.]\n",
      " [ 3.  4.]\n",
      " [ 5.  6.]]\n"
     ]
    }
   ],
   "source": [
    "#combina una lista de tnesores en un tensor de mayor rango\n",
    "import tensorflow as tf\n",
    "t1 = tf.constant([1., 2.])\n",
    "t2 = tf.constant([3., 4.])\n",
    "t3 = tf.constant([5., 6.])\n",
    "t4 = tf.stack([t1, t2, t3])\n",
    "with tf.Session() as sess:\n",
    "    print(sess.run(t4))"
   ]
  },
  {
   "cell_type": "code",
   "execution_count": 11,
   "metadata": {},
   "outputs": [
    {
     "name": "stdout",
     "output_type": "stream",
     "text": [
      "[array([ 1.,  2.], dtype=float32), array([ 3.,  4.], dtype=float32), array([ 5.,  6.], dtype=float32)]\n"
     ]
    }
   ],
   "source": [
    "#divide un tensor en una lista de tensores de menor rango\n",
    "import tensorflow as tf\n",
    "t1 = tf.constant([1., 2.])\n",
    "t2 = tf.constant([3., 4.])\n",
    "t3 = tf.constant([5., 6.])\n",
    "t4 = tf.stack([t1, t2, t3])\n",
    "t5 = tf.unstack(t4)\n",
    "\n",
    "with tf.Session() as sess:\n",
    "    print(sess.run(t5))"
   ]
  },
  {
   "cell_type": "code",
   "execution_count": 12,
   "metadata": {
    "collapsed": true
   },
   "outputs": [],
   "source": [
    "# tambien existe una gran cantidad de operaciones matematicass"
   ]
  },
  {
   "cell_type": "code",
   "execution_count": 14,
   "metadata": {},
   "outputs": [
    {
     "name": "stdout",
     "output_type": "stream",
     "text": [
      "[ 5.  5.  5.]\n",
      "[ 1.  1.  1.]\n",
      "[ 6.  6.  6.]\n",
      "[ 1.5  1.5  1.5]\n"
     ]
    }
   ],
   "source": [
    "#para esto tambien podemos usar los ooperadores normales de pyton +, -, /, *\n",
    "import tensorflow as tf\n",
    "a = tf.constant([3., 3., 3.])\n",
    "b = tf.constant([2., 2., 2.])\n",
    "sum = tf.add(a,b)\n",
    "res = tf.subtract(a,b)\n",
    "prod = tf.multiply(a,b)\n",
    "div = tf.divide(a,b)\n",
    "with tf.Session() as sess:\n",
    "    print(sess.run(sum))\n",
    "    print(sess.run(res))\n",
    "    print(sess.run(prod))\n",
    "    print(sess.run(div))"
   ]
  },
  {
   "cell_type": "code",
   "execution_count": null,
   "metadata": {
    "collapsed": true
   },
   "outputs": [],
   "source": []
  }
 ],
 "metadata": {
  "kernelspec": {
   "display_name": "Python 3",
   "language": "python",
   "name": "python3"
  },
  "language_info": {
   "codemirror_mode": {
    "name": "ipython",
    "version": 3
   },
   "file_extension": ".py",
   "mimetype": "text/x-python",
   "name": "python",
   "nbconvert_exporter": "python",
   "pygments_lexer": "ipython3",
   "version": "3.5.4"
  }
 },
 "nbformat": 4,
 "nbformat_minor": 2
}
