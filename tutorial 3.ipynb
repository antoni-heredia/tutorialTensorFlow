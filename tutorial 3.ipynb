{
 "cells": [
  {
   "cell_type": "code",
   "execution_count": 1,
   "metadata": {
    "collapsed": true
   },
   "outputs": [],
   "source": [
    "#ejemplos de tensores de rango 0 o escalares\n",
    "import tensorflow as tf\n",
    "mammal = tf.Variable(\"Elephant\", tf.string)\n",
    "ignition = tf.Variable(451, tf.int16)\n",
    "floating = tf.Variable(3.14159265359, tf.float64)\n",
    "its_complicated= tf.Variable(12.3 - 4.85j, tf.complex64)\n"
   ]
  },
  {
   "cell_type": "code",
   "execution_count": 2,
   "metadata": {
    "collapsed": true
   },
   "outputs": [],
   "source": [
    "# tensor rango 1 o vector\n",
    "import tensorflow as tf\n",
    "mystr = tf.Variable([\"hello\"], tf.string)\n",
    "cool_numbers = tf.Variable([3.141559,2.71828], tf.float32)\n",
    "firt_primes = tf.Variable([2,3,5,7,11], tf.int32)\n",
    "its_very_complicated= tf.Variable([12.3 - 4.85j, 7.5 - 6.23j], tf.complex64)\n"
   ]
  },
  {
   "cell_type": "code",
   "execution_count": 5,
   "metadata": {},
   "outputs": [],
   "source": [
    "# tensor rango 2 o superior(matriz) \n",
    "import tensorflow as tf\n",
    "mymat = tf.Variable([[7],[11]], tf.int16)\n",
    "myxor = tf.Variable([[False, True],[True, False]], tf.bool)\n",
    "linear_squares = tf.Variable([[4],[9],[16],[25]], tf.int32)\n",
    "squarish_squares = tf.Variable([[4,9],[16,25]], tf.int32)\n",
    "rank_of_squares = tf.rank(squarish_squares)\n",
    "mymatC = tf.Variable([[7],[11]], tf.int32)\n",
    "                     "
   ]
  },
  {
   "cell_type": "code",
   "execution_count": null,
   "metadata": {
    "collapsed": true
   },
   "outputs": [],
   "source": [
    "# tensores de rangos mas altos, contienen arrays n-dimensionales. Por ejemplo procesacmiento de imagnes\n",
    "import tensorflow as tf\n",
    "my_image = tf.zeros([10,299,299,3]) # batch x height x width x color\n",
    "r = tf."
   ]
  }
 ],
 "metadata": {
  "kernelspec": {
   "display_name": "Python 3",
   "language": "python",
   "name": "python3"
  },
  "language_info": {
   "codemirror_mode": {
    "name": "ipython",
    "version": 3
   },
   "file_extension": ".py",
   "mimetype": "text/x-python",
   "name": "python",
   "nbconvert_exporter": "python",
   "pygments_lexer": "ipython3",
   "version": "3.5.4"
  }
 },
 "nbformat": 4,
 "nbformat_minor": 2
}
